{
  "cells": [
    {
      "cell_type": "markdown",
      "metadata": {
        "id": "5xWZ4vVbbiAY"
      },
      "source": [
        "# Self Practice: Evaluation Metrics & Application to Trading Rules"
      ]
    },
    {
      "cell_type": "markdown",
      "metadata": {
        "id": "ECUT4opl6gxt"
      },
      "source": [
        "## Background"
      ]
    },
    {
      "cell_type": "markdown",
      "metadata": {
        "id": "wwcq_ywO6nqA"
      },
      "source": [
        "Suppose you are working as an analyst at an investment bank. Your manager asked you to implement a decision tree to test one of the desk trader's startegy.\n",
        "\n",
        "The trader uses 6 indicators to implement a buy or sell strategy for Microsoft. Your manager did not specify anything else except that you need to implement a decision tree algorithm. \n",
        "\n",
        "Here are the indicators you will use:\n",
        "* Average True Range\n",
        "* Average Directional Index\n",
        "* Relative Strength Index\n",
        "* Binary Indicator when Price is greater than EMA(10)\n",
        "* Binary Indicator when EMA(10) is greater than EMA(30)\n",
        "* Binary Indicator when MACD-Signal is greater than MACD\n",
        "\n",
        "You will train your model between 1986-04-30 and 2020-08-26, and test it on 2021-06-15-Present. You will notice that the period between 2020-08-26 and 2021-06-14 is left for validation. The forecasting horizon is 200 days. We will produce one-step ahead predictions for 200 days starting in 2021-06-15.\n",
        "\n",
        "* Train 1986/04/30 - 2020/08/26\n",
        "* Validation 2020/08/26 - 2021/06/14\n",
        "* Test 2021/06/15 - 2022/03/30\n",
        "\n"
      ]
    },
    {
      "cell_type": "markdown",
      "metadata": {
        "id": "4LVnB4iNbq_B"
      },
      "source": [
        "## Outline:\n",
        "1. Demonstrate the various evaluation metrics in sklearn.\n",
        "2. We use Microsoft stock data from Yahoo Finance\n",
        "3. We will build a Classification Model\n",
        "4. We will visualize the ROC curve\n"
      ]
    },
    {
      "cell_type": "markdown",
      "metadata": {
        "id": "AqwTquUac6cE"
      },
      "source": [
        "## Importing Libraries"
      ]
    },
    {
      "cell_type": "code",
      "execution_count": null,
      "metadata": {
        "id": "hQPfhCrFdF-A"
      },
      "outputs": [],
      "source": [
        "! pip install pandas_ta\n",
        "! pip install yfinance"
      ]
    },
    {
      "cell_type": "code",
      "execution_count": null,
      "metadata": {
        "id": "M1POOuPK2sTB"
      },
      "outputs": [],
      "source": [
        "import pandas as pd\n",
        "import pandas_ta as ta\n",
        "import numpy as np\n",
        "import yfinance\n",
        "from sklearn import tree\n",
        "from sklearn.model_selection import train_test_split\n",
        "from sklearn.multiclass import OneVsRestClassifier\n",
        "from sklearn.tree import DecisionTreeClassifier\n",
        "from sklearn.metrics import accuracy_score\n",
        "import matplotlib.pyplot as plt\n",
        "%matplotlib inline\n",
        "import graphviz\n",
        "from IPython.display import Image  \n",
        "import pydotplus\n",
        "from sklearn.tree import export_graphviz\n",
        "from sklearn import metrics"
      ]
    },
    {
      "cell_type": "markdown",
      "metadata": {
        "id": "YRqltKWf21h2"
      },
      "source": [
        "## Loading Data"
      ]
    },
    {
      "cell_type": "markdown",
      "metadata": {
        "id": "hHtU6FuCFAWa"
      },
      "source": [
        "We use the YFinance Package to download data directly from Yahoo Finance."
      ]
    },
    {
      "cell_type": "code",
      "execution_count": null,
      "metadata": {
        "id": "S-mXVkS721LP"
      },
      "outputs": [],
      "source": [
        "df= pd.DataFrame()\n",
        "df=df.ta.ticker('msft')\n"
      ]
    },
    {
      "cell_type": "markdown",
      "metadata": {
        "id": "Qacy_uqcFHOY"
      },
      "source": [
        "## Data Transformation and Technical Analysis"
      ]
    },
    {
      "cell_type": "code",
      "execution_count": null,
      "metadata": {
        "id": "QHNWBCCe3oA-"
      },
      "outputs": [],
      "source": [
        "## In this section you are required to generate the necessary techincal indicators\n",
        "\n",
        "# Exponnetial Moving Averages\n",
        "df['ema10']=None\n",
        "df['ema30']=None\n",
        "\n",
        "# Average True Range- Measures Volatility Caused by Price Gaps or Limit Moves\n",
        "df['atr'] = None\n",
        "\n",
        "# Average Directional Movement Index - to  quantify trend strength by measuring \n",
        "# the amount of movement in a single direction\n",
        "\n",
        "adx= None\n",
        "df['adx'] = None\n",
        "\n",
        "# Moving Average Convergence/ Divergence\n",
        "#   Used to identify aspects of a security's overall trend\n",
        "#   MACD Line: (12-day EMA - 26-day EMA) \n",
        "#   Signal Line: 9-day EMA of MACD Line\n",
        "#   MACD Histogram: MACD Line - Signal Line\n",
        "\n",
        "macd = macd = None\n",
        "df['macd']=None\n",
        "df['macds']=None\n",
        "\n",
        "\n",
        "# Relative Strength Index\n",
        "#   momentum oscillator used to measure the\n",
        "#   velocity as well as the magnitude of directional price movements\n",
        "\n",
        "df['rsi'] =None\n",
        "\n",
        "df['Cgtema10'] = None\n",
        "df['ema10gtema30'] = None\n",
        "df['macdsgtmacd'] = None\n",
        "\n",
        "df['Return_1'] = None\n",
        "df['target'] = None\n",
        "\n",
        "df.dropna(inplace=True)\n",
        "\n",
        "# Features\n",
        "predictors_list = None\n",
        "X = df[predictors_list]\n",
        "\n",
        "# Target Variable\n",
        "y = df.target\n",
        "\n"
      ]
    },
    {
      "cell_type": "code",
      "execution_count": null,
      "metadata": {
        "colab": {
          "base_uri": "https://localhost:8080/",
          "height": 401
        },
        "id": "jFc1XDHJ_W9P",
        "outputId": "4daf43bc-a779-47f3-9b7d-9c3451e48dcd"
      },
      "outputs": [
        {
          "output_type": "execute_result",
          "data": {
            "text/plain": [
              "                Open      High       Low     Close    Volume  Dividends  \\\n",
              "Date                                                                      \n",
              "1986-04-30  0.072404  0.072953  0.069113  0.070759  30902400        0.0   \n",
              "1986-05-01  0.070759  0.070759  0.068565  0.069662  54345600        0.0   \n",
              "1986-05-02  0.069662  0.070759  0.069113  0.069662  20246400        0.0   \n",
              "1986-05-05  0.069662  0.069662  0.069113  0.069113   3254400        0.0   \n",
              "1986-05-06  0.069662  0.070759  0.069662  0.069662   9734400        0.0   \n",
              "\n",
              "            Stock Splits     ema10     ema30       atr        adx      macd  \\\n",
              "Date                                                                          \n",
              "1986-04-30           0.0  0.069055  0.064604  0.002736  21.975007  0.003106   \n",
              "1986-05-01           0.0  0.069165  0.064931  0.002694  21.654902  0.002976   \n",
              "1986-05-02           0.0  0.069255  0.065236  0.002613  21.369228  0.002841   \n",
              "1986-05-05           0.0  0.069229  0.065486  0.002455  21.113379  0.002658   \n",
              "1986-05-06           0.0  0.069308  0.065756  0.002393  21.302145  0.002529   \n",
              "\n",
              "               macds        rsi  Cgtema10  ema10gtema30  macdsgtmacd  \\\n",
              "Date                                                                   \n",
              "1986-04-30  0.002142  64.263976         1             1           -1   \n",
              "1986-05-01  0.002309  60.661382         1             1           -1   \n",
              "1986-05-02  0.002415  60.661382         1             1           -1   \n",
              "1986-05-05  0.002464  58.751527        -1             1           -1   \n",
              "1986-05-06  0.002477  60.104222         1             1           -1   \n",
              "\n",
              "            Return_1  target  \n",
              "Date                          \n",
              "1986-04-30 -0.015503       0  \n",
              "1986-05-01  0.000000       0  \n",
              "1986-05-02 -0.007873       0  \n",
              "1986-05-05  0.007936       1  \n",
              "1986-05-06  0.000000       0  "
            ],
            "text/html": [
              "\n",
              "  <div id=\"df-9b294bba-04d8-4e35-aed7-975ca7cd57e5\">\n",
              "    <div class=\"colab-df-container\">\n",
              "      <div>\n",
              "<style scoped>\n",
              "    .dataframe tbody tr th:only-of-type {\n",
              "        vertical-align: middle;\n",
              "    }\n",
              "\n",
              "    .dataframe tbody tr th {\n",
              "        vertical-align: top;\n",
              "    }\n",
              "\n",
              "    .dataframe thead th {\n",
              "        text-align: right;\n",
              "    }\n",
              "</style>\n",
              "<table border=\"1\" class=\"dataframe\">\n",
              "  <thead>\n",
              "    <tr style=\"text-align: right;\">\n",
              "      <th></th>\n",
              "      <th>Open</th>\n",
              "      <th>High</th>\n",
              "      <th>Low</th>\n",
              "      <th>Close</th>\n",
              "      <th>Volume</th>\n",
              "      <th>Dividends</th>\n",
              "      <th>Stock Splits</th>\n",
              "      <th>ema10</th>\n",
              "      <th>ema30</th>\n",
              "      <th>atr</th>\n",
              "      <th>adx</th>\n",
              "      <th>macd</th>\n",
              "      <th>macds</th>\n",
              "      <th>rsi</th>\n",
              "      <th>Cgtema10</th>\n",
              "      <th>ema10gtema30</th>\n",
              "      <th>macdsgtmacd</th>\n",
              "      <th>Return_1</th>\n",
              "      <th>target</th>\n",
              "    </tr>\n",
              "    <tr>\n",
              "      <th>Date</th>\n",
              "      <th></th>\n",
              "      <th></th>\n",
              "      <th></th>\n",
              "      <th></th>\n",
              "      <th></th>\n",
              "      <th></th>\n",
              "      <th></th>\n",
              "      <th></th>\n",
              "      <th></th>\n",
              "      <th></th>\n",
              "      <th></th>\n",
              "      <th></th>\n",
              "      <th></th>\n",
              "      <th></th>\n",
              "      <th></th>\n",
              "      <th></th>\n",
              "      <th></th>\n",
              "      <th></th>\n",
              "      <th></th>\n",
              "    </tr>\n",
              "  </thead>\n",
              "  <tbody>\n",
              "    <tr>\n",
              "      <th>1986-04-30</th>\n",
              "      <td>0.072404</td>\n",
              "      <td>0.072953</td>\n",
              "      <td>0.069113</td>\n",
              "      <td>0.070759</td>\n",
              "      <td>30902400</td>\n",
              "      <td>0.0</td>\n",
              "      <td>0.0</td>\n",
              "      <td>0.069055</td>\n",
              "      <td>0.064604</td>\n",
              "      <td>0.002736</td>\n",
              "      <td>21.975007</td>\n",
              "      <td>0.003106</td>\n",
              "      <td>0.002142</td>\n",
              "      <td>64.263976</td>\n",
              "      <td>1</td>\n",
              "      <td>1</td>\n",
              "      <td>-1</td>\n",
              "      <td>-0.015503</td>\n",
              "      <td>0</td>\n",
              "    </tr>\n",
              "    <tr>\n",
              "      <th>1986-05-01</th>\n",
              "      <td>0.070759</td>\n",
              "      <td>0.070759</td>\n",
              "      <td>0.068565</td>\n",
              "      <td>0.069662</td>\n",
              "      <td>54345600</td>\n",
              "      <td>0.0</td>\n",
              "      <td>0.0</td>\n",
              "      <td>0.069165</td>\n",
              "      <td>0.064931</td>\n",
              "      <td>0.002694</td>\n",
              "      <td>21.654902</td>\n",
              "      <td>0.002976</td>\n",
              "      <td>0.002309</td>\n",
              "      <td>60.661382</td>\n",
              "      <td>1</td>\n",
              "      <td>1</td>\n",
              "      <td>-1</td>\n",
              "      <td>0.000000</td>\n",
              "      <td>0</td>\n",
              "    </tr>\n",
              "    <tr>\n",
              "      <th>1986-05-02</th>\n",
              "      <td>0.069662</td>\n",
              "      <td>0.070759</td>\n",
              "      <td>0.069113</td>\n",
              "      <td>0.069662</td>\n",
              "      <td>20246400</td>\n",
              "      <td>0.0</td>\n",
              "      <td>0.0</td>\n",
              "      <td>0.069255</td>\n",
              "      <td>0.065236</td>\n",
              "      <td>0.002613</td>\n",
              "      <td>21.369228</td>\n",
              "      <td>0.002841</td>\n",
              "      <td>0.002415</td>\n",
              "      <td>60.661382</td>\n",
              "      <td>1</td>\n",
              "      <td>1</td>\n",
              "      <td>-1</td>\n",
              "      <td>-0.007873</td>\n",
              "      <td>0</td>\n",
              "    </tr>\n",
              "    <tr>\n",
              "      <th>1986-05-05</th>\n",
              "      <td>0.069662</td>\n",
              "      <td>0.069662</td>\n",
              "      <td>0.069113</td>\n",
              "      <td>0.069113</td>\n",
              "      <td>3254400</td>\n",
              "      <td>0.0</td>\n",
              "      <td>0.0</td>\n",
              "      <td>0.069229</td>\n",
              "      <td>0.065486</td>\n",
              "      <td>0.002455</td>\n",
              "      <td>21.113379</td>\n",
              "      <td>0.002658</td>\n",
              "      <td>0.002464</td>\n",
              "      <td>58.751527</td>\n",
              "      <td>-1</td>\n",
              "      <td>1</td>\n",
              "      <td>-1</td>\n",
              "      <td>0.007936</td>\n",
              "      <td>1</td>\n",
              "    </tr>\n",
              "    <tr>\n",
              "      <th>1986-05-06</th>\n",
              "      <td>0.069662</td>\n",
              "      <td>0.070759</td>\n",
              "      <td>0.069662</td>\n",
              "      <td>0.069662</td>\n",
              "      <td>9734400</td>\n",
              "      <td>0.0</td>\n",
              "      <td>0.0</td>\n",
              "      <td>0.069308</td>\n",
              "      <td>0.065756</td>\n",
              "      <td>0.002393</td>\n",
              "      <td>21.302145</td>\n",
              "      <td>0.002529</td>\n",
              "      <td>0.002477</td>\n",
              "      <td>60.104222</td>\n",
              "      <td>1</td>\n",
              "      <td>1</td>\n",
              "      <td>-1</td>\n",
              "      <td>0.000000</td>\n",
              "      <td>0</td>\n",
              "    </tr>\n",
              "  </tbody>\n",
              "</table>\n",
              "</div>\n",
              "      <button class=\"colab-df-convert\" onclick=\"convertToInteractive('df-9b294bba-04d8-4e35-aed7-975ca7cd57e5')\"\n",
              "              title=\"Convert this dataframe to an interactive table.\"\n",
              "              style=\"display:none;\">\n",
              "        \n",
              "  <svg xmlns=\"http://www.w3.org/2000/svg\" height=\"24px\"viewBox=\"0 0 24 24\"\n",
              "       width=\"24px\">\n",
              "    <path d=\"M0 0h24v24H0V0z\" fill=\"none\"/>\n",
              "    <path d=\"M18.56 5.44l.94 2.06.94-2.06 2.06-.94-2.06-.94-.94-2.06-.94 2.06-2.06.94zm-11 1L8.5 8.5l.94-2.06 2.06-.94-2.06-.94L8.5 2.5l-.94 2.06-2.06.94zm10 10l.94 2.06.94-2.06 2.06-.94-2.06-.94-.94-2.06-.94 2.06-2.06.94z\"/><path d=\"M17.41 7.96l-1.37-1.37c-.4-.4-.92-.59-1.43-.59-.52 0-1.04.2-1.43.59L10.3 9.45l-7.72 7.72c-.78.78-.78 2.05 0 2.83L4 21.41c.39.39.9.59 1.41.59.51 0 1.02-.2 1.41-.59l7.78-7.78 2.81-2.81c.8-.78.8-2.07 0-2.86zM5.41 20L4 18.59l7.72-7.72 1.47 1.35L5.41 20z\"/>\n",
              "  </svg>\n",
              "      </button>\n",
              "      \n",
              "  <style>\n",
              "    .colab-df-container {\n",
              "      display:flex;\n",
              "      flex-wrap:wrap;\n",
              "      gap: 12px;\n",
              "    }\n",
              "\n",
              "    .colab-df-convert {\n",
              "      background-color: #E8F0FE;\n",
              "      border: none;\n",
              "      border-radius: 50%;\n",
              "      cursor: pointer;\n",
              "      display: none;\n",
              "      fill: #1967D2;\n",
              "      height: 32px;\n",
              "      padding: 0 0 0 0;\n",
              "      width: 32px;\n",
              "    }\n",
              "\n",
              "    .colab-df-convert:hover {\n",
              "      background-color: #E2EBFA;\n",
              "      box-shadow: 0px 1px 2px rgba(60, 64, 67, 0.3), 0px 1px 3px 1px rgba(60, 64, 67, 0.15);\n",
              "      fill: #174EA6;\n",
              "    }\n",
              "\n",
              "    [theme=dark] .colab-df-convert {\n",
              "      background-color: #3B4455;\n",
              "      fill: #D2E3FC;\n",
              "    }\n",
              "\n",
              "    [theme=dark] .colab-df-convert:hover {\n",
              "      background-color: #434B5C;\n",
              "      box-shadow: 0px 1px 3px 1px rgba(0, 0, 0, 0.15);\n",
              "      filter: drop-shadow(0px 1px 2px rgba(0, 0, 0, 0.3));\n",
              "      fill: #FFFFFF;\n",
              "    }\n",
              "  </style>\n",
              "\n",
              "      <script>\n",
              "        const buttonEl =\n",
              "          document.querySelector('#df-9b294bba-04d8-4e35-aed7-975ca7cd57e5 button.colab-df-convert');\n",
              "        buttonEl.style.display =\n",
              "          google.colab.kernel.accessAllowed ? 'block' : 'none';\n",
              "\n",
              "        async function convertToInteractive(key) {\n",
              "          const element = document.querySelector('#df-9b294bba-04d8-4e35-aed7-975ca7cd57e5');\n",
              "          const dataTable =\n",
              "            await google.colab.kernel.invokeFunction('convertToInteractive',\n",
              "                                                     [key], {});\n",
              "          if (!dataTable) return;\n",
              "\n",
              "          const docLinkHtml = 'Like what you see? Visit the ' +\n",
              "            '<a target=\"_blank\" href=https://colab.research.google.com/notebooks/data_table.ipynb>data table notebook</a>'\n",
              "            + ' to learn more about interactive tables.';\n",
              "          element.innerHTML = '';\n",
              "          dataTable['output_type'] = 'display_data';\n",
              "          await google.colab.output.renderOutput(dataTable, element);\n",
              "          const docLink = document.createElement('div');\n",
              "          docLink.innerHTML = docLinkHtml;\n",
              "          element.appendChild(docLink);\n",
              "        }\n",
              "      </script>\n",
              "    </div>\n",
              "  </div>\n",
              "  "
            ]
          },
          "metadata": {},
          "execution_count": 5
        }
      ],
      "source": [
        "df.head()"
      ]
    },
    {
      "cell_type": "markdown",
      "metadata": {
        "id": "Kr4wQ-OMJa_8"
      },
      "source": [
        "## Splitting the Data"
      ]
    },
    {
      "cell_type": "code",
      "execution_count": null,
      "metadata": {
        "id": "k3EJV39K__8p"
      },
      "outputs": [],
      "source": [
        "X_train=X.loc[None:None]\n",
        "X_valid=X.loc[None:None]\n",
        "X_test=X.loc[None:]\n",
        "y_train=y.loc[None:None]\n",
        "y_valid=y.loc[None:None]\n",
        "y_test=y.loc[None:]"
      ]
    },
    {
      "cell_type": "markdown",
      "metadata": {
        "id": "vZeci0_eJhjc"
      },
      "source": [
        "## Building The Decision Tree for Trading"
      ]
    },
    {
      "cell_type": "markdown",
      "source": [
        "We will use:\n",
        "* Min-samples-leaf [8,10]\n",
        "* Min-samples-split [8,10]\n",
        "* Max-depth [8,10]"
      ],
      "metadata": {
        "id": "FEqBoQgwuz5e"
      }
    },
    {
      "cell_type": "code",
      "execution_count": null,
      "metadata": {
        "id": "g4zQNHlQJo3g"
      },
      "outputs": [],
      "source": [
        "for leaf_size in [None,None]:\n",
        "  for min_samples_split in [None,None]:\n",
        "    for max_depth in [None,None]:\n",
        "      \n",
        "      clf = tree.DecisionTreeClassifier(criterion='entropy',\n",
        "                                   min_samples_leaf=leaf_size,\n",
        "                                   min_samples_split=min_samples_split,\n",
        "                                   max_depth=max_depth, random_state=34)\n",
        "      clf.fit(X_train,y_train)\n",
        "      y_pred = clf.predict(X_valid)\n",
        "      print ('Validation accuracy where [min_samples_leaf;min_samples_split;max_depth] '+ '=' + '[' +str(leaf_size) +';'+\n",
        "             str(min_samples_split)+';'+ str(max_depth)+']' + 'is' +' = ' + \n",
        "              str(metrics.accuracy_score(y_valid, y_pred)) + '\\n')"
      ]
    },
    {
      "cell_type": "markdown",
      "source": [
        "Add validation"
      ],
      "metadata": {
        "id": "yi3ypx8gP9fU"
      }
    },
    {
      "cell_type": "markdown",
      "metadata": {
        "id": "hTFWnSVkKP7s"
      },
      "source": [
        "## Make Predictions"
      ]
    },
    {
      "cell_type": "code",
      "execution_count": null,
      "metadata": {
        "id": "Ov0eNZOg3_sM"
      },
      "outputs": [],
      "source": [
        "predictions = None"
      ]
    },
    {
      "cell_type": "markdown",
      "metadata": {
        "id": "j5bwl3jxLM4e"
      },
      "source": [
        "## Evaluation Metrics"
      ]
    },
    {
      "cell_type": "markdown",
      "metadata": {
        "id": "Sl0gQEbKMQau"
      },
      "source": [
        "## Accuracy is the number of instances where our prediction is equal to the ground truth over total number of instances"
      ]
    },
    {
      "cell_type": "code",
      "execution_count": null,
      "metadata": {
        "colab": {
          "base_uri": "https://localhost:8080/"
        },
        "id": "HjzcBhewLU8s",
        "outputId": "b6b35bdd-871c-4942-99a6-3134faec7257"
      },
      "outputs": [
        {
          "output_type": "stream",
          "name": "stdout",
          "text": [
            "accuracy = 0.5323\n"
          ]
        }
      ],
      "source": [
        "print ('accuracy = ' + str(round(None,4)))"
      ]
    },
    {
      "cell_type": "markdown",
      "metadata": {
        "id": "VSQAWUn2MXa9"
      },
      "source": [
        "## Confusion Matrix is a matrix that is used to describe the performance of the classification model"
      ]
    },
    {
      "cell_type": "code",
      "execution_count": null,
      "metadata": {
        "colab": {
          "base_uri": "https://localhost:8080/"
        },
        "id": "MwWYMKx3M68A",
        "outputId": "9649a204-cb9b-468e-cade-abb7d4eb2344"
      },
      "outputs": [
        {
          "output_type": "stream",
          "name": "stdout",
          "text": [
            "The confusion matrix is: \n",
            "\n",
            "[[47 46]\n",
            " [48 60]]\n"
          ]
        }
      ],
      "source": [
        "print('The confusion matrix is: \\n')\n",
        "print(None)"
      ]
    },
    {
      "cell_type": "code",
      "execution_count": null,
      "metadata": {
        "colab": {
          "base_uri": "https://localhost:8080/"
        },
        "id": "VuhixZFjNJzP",
        "outputId": "9208dd81-99dd-414d-9926-75f91e88a996"
      },
      "outputs": [
        {
          "output_type": "stream",
          "name": "stdout",
          "text": [
            "precision = 0.566\n"
          ]
        }
      ],
      "source": [
        "print ('precision = ' + str(round(None),4))"
      ]
    },
    {
      "cell_type": "code",
      "execution_count": null,
      "metadata": {
        "colab": {
          "base_uri": "https://localhost:8080/"
        },
        "id": "SkqUQCD4NLgU",
        "outputId": "e2f09a21-398a-42ef-e9e4-d1f5d63d8da5"
      },
      "outputs": [
        {
          "output_type": "stream",
          "name": "stdout",
          "text": [
            "recall = 0.5556\n"
          ]
        }
      ],
      "source": [
        "print ('recall = ' + str(round(None,4)))"
      ]
    },
    {
      "cell_type": "code",
      "execution_count": null,
      "metadata": {
        "colab": {
          "base_uri": "https://localhost:8080/"
        },
        "id": "orsCzkwjNkJV",
        "outputId": "ebed7446-541f-41fc-d32b-246ac5831c00"
      },
      "outputs": [
        {
          "output_type": "stream",
          "name": "stdout",
          "text": [
            "f1 score = 0.5607\n"
          ]
        }
      ],
      "source": [
        "print ('f1 score = ' + str(round(None,4)))"
      ]
    },
    {
      "cell_type": "code",
      "execution_count": null,
      "metadata": {
        "id": "EH2ppNTINiJV"
      },
      "outputs": [],
      "source": [
        "fpr, tpr, threshold = None\n",
        "roc_auc = metrics.auc(None, None)\n",
        "plt.rc(\"figure\", figsize=(16, 8))\n",
        "plt.rc(\"font\", size=12)\n",
        "\n",
        "plt.title('Receiver Operating Characteristic')\n",
        "plt.plot(fpr, tpr, 'b', label = 'AUC = %0.4f' % roc_auc)\n",
        "plt.legend(loc = 'lower right')\n",
        "plt.plot([0, 1], [0, 1],'r--')\n",
        "plt.xlim([0, 1])\n",
        "plt.ylim([0, 1])\n",
        "plt.ylabel('True Positive Rate')\n",
        "plt.xlabel('False Positive Rate')\n",
        "plt.show()"
      ]
    },
    {
      "cell_type": "code",
      "execution_count": null,
      "metadata": {
        "id": "vxgdVNe4WMhN"
      },
      "outputs": [],
      "source": [
        ""
      ]
    }
  ],
  "metadata": {
    "colab": {
      "collapsed_sections": [
        "4LVnB4iNbq_B",
        "j5bwl3jxLM4e"
      ],
      "name": "Evaluation Practice Questions.ipynb",
      "provenance": []
    },
    "kernelspec": {
      "display_name": "Python 3",
      "name": "python3"
    },
    "language_info": {
      "name": "python"
    }
  },
  "nbformat": 4,
  "nbformat_minor": 0
}