{
  "cells": [
    {
      "cell_type": "markdown",
      "metadata": {
        "id": "xyVhIQrMKWds"
      },
      "source": [
        "# Nearest Neighbors Practice Prob"
      ]
    },
    {
      "cell_type": "markdown",
      "metadata": {
        "id": "BOteOkHxKWdw"
      },
      "source": [
        "In this exercise you will use the iris dataset from scikit-learn dataset to perform multiclass classification.  \n",
        "For simplicity consider using only the first 2 features (_septal length_, _septal width_).\n",
        "\n",
        "### Things to do:\n",
        "1. Load the dataset\n",
        "2. Split the dataset into train/test/validation sets\n",
        "3. Apply Nearest Neighbors classifier to the dataset\n",
        "4. Tune the parameter $k$ using validation set to find the best classifier \n",
        "5. Report the accuracy of the classifier on train and test data\n",
        "6. Plot the decision boundary for the best classifier"
      ]
    },
    {
      "cell_type": "code",
      "execution_count": null,
      "metadata": {
        "ExecuteTime": {
          "end_time": "2019-04-05T07:41:08.818054Z",
          "start_time": "2019-04-05T07:41:08.509560Z"
        },
        "id": "tcfZbyiiKWdw"
      },
      "outputs": [],
      "source": [
        "from sklearn.neighbors import KNeighborsClassifier\n",
        "from sklearn import datasets\n",
        "from matplotlib.colors import ListedColormap\n",
        "import numpy as np\n",
        "import matplotlib.pyplot as plt\n",
        "from sklearn.model_selection import train_test_split\n",
        "import pandas as pd\n",
        "from sklearn import datasets"
      ]
    },
    {
      "cell_type": "code",
      "execution_count": null,
      "metadata": {
        "id": "5PR3pX4rKWdy"
      },
      "outputs": [],
      "source": [
        "# Build a NN classifier.\n",
        "# Use validation set to tune the classifer for best performance.\n",
        "# try k = 1, 3, 5, .., 15\n",
        "\n",
        "# Load the iris dataset\n",
        "iris = datasets.load_iris()\n",
        "X = iris.data[:, :2]  # we only take the first two features for simplicity\n",
        "y = iris.target"
      ]
    },
    {
      "cell_type": "code",
      "execution_count": null,
      "metadata": {
        "ExecuteTime": {
          "end_time": "2019-04-05T08:16:12.662627Z",
          "start_time": "2019-04-05T08:16:12.657553Z"
        },
        "id": "Ib4kROs-KWdy"
      },
      "outputs": [],
      "source": [
        "## Your code here\n",
        "\n",
        "# Split into testing and training data\n",
        "X_train_full, X_test, y_train_full, y_test = train_test_split(X, y, test_size=0.2, random_state=5)\n",
        "# Split training data into testing and validation data\n",
        "X_train, X_valid, y_train, y_valid = train_test_split(X_train_full, y_train_full, test_size=0.25, random_state=10)"
      ]
    },
    {
      "cell_type": "code",
      "execution_count": null,
      "metadata": {
        "colab": {
          "base_uri": "https://localhost:8080/"
        },
        "id": "QiGNSb2TKWdz",
        "outputId": "5a7975ff-da8f-47f8-addd-b0fd4516b04e"
      },
      "outputs": [
        {
          "output_type": "stream",
          "name": "stdout",
          "text": [
            "accuracy = 0.7333333333333333, when k = 1\n",
            "accuracy = 0.8, when k = 3\n",
            "accuracy = 0.7666666666666667, when k = 5\n",
            "accuracy = 0.7666666666666667, when k = 7\n",
            "accuracy = 0.7666666666666667, when k = 9\n",
            "accuracy = 0.7666666666666667, when k = 11\n",
            "accuracy = 0.7333333333333333, when k = 13\n",
            "accuracy = 0.7666666666666667, when k = 15\n"
          ]
        }
      ],
      "source": [
        "best_k = 1\n",
        "best_accuracy = 0\n",
        "\n",
        "for k in [1, 3, 5, 7, 9, 11, 13, 15]: # range(1, 16, 2)\n",
        "  for p in [1,2,3]:\n",
        "    clf = KNeighborsClassifier(k, p)\n",
        "    clf.fit(X_train, y_train)\n",
        "\n",
        "    predictions = clf.predict(X_valid)\n",
        "    accuracy = np.sum(predictions == y_valid)/(len(y_valid))\n",
        "    print ('accuracy = ' + str(accuracy) + ', when k = ' + str(k))\n",
        "    # Or from sklearn.metrics import accuracy_score, accuracy_score(y_valid, predictions)\n",
        "    if accuracy > best_accuracy:\n",
        "      best_accuracy = accuracy\n",
        "      best_k = k"
      ]
    },
    {
      "cell_type": "code",
      "execution_count": null,
      "metadata": {
        "colab": {
          "base_uri": "https://localhost:8080/"
        },
        "id": "Pyp54sB9KWd0",
        "outputId": "a88b27d9-6730-45ef-c5a1-43efc2a657d0"
      },
      "outputs": [
        {
          "output_type": "stream",
          "name": "stdout",
          "text": [
            "3\n",
            "Test accuracy = 0.8666666666666667, when best k = 3\n"
          ]
        }
      ],
      "source": [
        "print(best_k)\n",
        "\n",
        "clf = KNeighborsClassifier(best_k)\n",
        "clf.fit(X_train_full, y_train_full)\n",
        "predictions = clf.predict(X_test)\n",
        "print ('Test accuracy = ' + str(np.sum(predictions == y_test)/(len(y_test))) + ', when best k = ' + str(best_k))"
      ]
    },
    {
      "cell_type": "markdown",
      "metadata": {
        "id": "D1FYDijiKWd0"
      },
      "source": [
        "Visualizing the decision boundary"
      ]
    },
    {
      "cell_type": "code",
      "execution_count": null,
      "metadata": {
        "colab": {
          "base_uri": "https://localhost:8080/",
          "height": 281
        },
        "id": "v1uGaeJwKWd1",
        "outputId": "e793e826-88af-4d94-e293-2c9b4490110a"
      },
      "outputs": [
        {
          "output_type": "display_data",
          "data": {
            "text/plain": [
              "<Figure size 432x288 with 1 Axes>"
            ],
            "image/png": "[encoded data removed]"
          },
          "metadata": {
            "needs_background": "light"
          }
        }
      ],
      "source": [
        "## helper code to visualize the decision boundary\n",
        "\n",
        "## set the following values accordingly for visualiziation\n",
        "classifier = clf  # classifier object\n",
        "n_neighbors = best_k   # value of k\n",
        "X = X_train_full         # Data to plot (training data)\n",
        "y = y_train_full\n",
        "\n",
        "h = .02  # step size in the mesh\n",
        "# Create color maps\n",
        "cmap_light = ListedColormap(['#FFAAAA', '#AAFFAA', '#AAAAFF'])\n",
        "cmap_bold = ListedColormap(['#FF0000', '#00FF00', '#0000FF'])\n",
        "\n",
        "# Plot the decision boundary. For that, we will assign a color to each\n",
        "# point in the mesh [x_min, x_max]x[y_min, y_max].\n",
        "x_min, x_max = X[:, 0].min() - 1, X[:, 0].max() + 1\n",
        "y_min, y_max = X[:, 1].min() - 1, X[:, 1].max() + 1\n",
        "xx, yy = np.meshgrid(np.arange(x_min, x_max, h),\n",
        "                     np.arange(y_min, y_max, h))\n",
        "Z = classifier.predict(np.c_[xx.ravel(), yy.ravel()])\n",
        "\n",
        "# Put the result into a color plot\n",
        "Z = Z.reshape(xx.shape)\n",
        "plt.figure()\n",
        "plt.pcolormesh(xx, yy, Z, cmap=cmap_light)\n",
        "\n",
        "# Plot also the training points\n",
        "plt.scatter(X[:, 0], X[:, 1], c=y, cmap=cmap_bold)\n",
        "plt.xlim(xx.min(), xx.max())\n",
        "plt.ylim(yy.min(), yy.max())\n",
        "plt.title(\"3-Class classification (k = %i)\"\n",
        "          % (n_neighbors))\n",
        "\n",
        "plt.show()"
      ]
    },
    {
      "cell_type": "code",
      "execution_count": null,
      "metadata": {
        "id": "oWI55nR7KWd2"
      },
      "outputs": [],
      "source": [
        ""
      ]
    }
  ],
  "metadata": {
    "kernelspec": {
      "display_name": "Python 3",
      "language": "python",
      "name": "python3"
    },
    "language_info": {
      "codemirror_mode": {
        "name": "ipython",
        "version": 3
      },
      "file_extension": ".py",
      "mimetype": "text/x-python",
      "name": "python",
      "nbconvert_exporter": "python",
      "pygments_lexer": "ipython3",
      "version": "3.8.3"
    },
    "varInspector": {
      "cols": {
        "lenName": 16,
        "lenType": 16,
        "lenVar": 40
      },
      "kernels_config": {
        "python": {
          "delete_cmd_postfix": "",
          "delete_cmd_prefix": "del ",
          "library": "var_list.py",
          "varRefreshCmd": "print(var_dic_list())"
        },
        "r": {
          "delete_cmd_postfix": ") ",
          "delete_cmd_prefix": "rm(",
          "library": "var_list.r",
          "varRefreshCmd": "cat(var_dic_list()) "
        }
      },
      "types_to_exclude": [
        "module",
        "function",
        "builtin_function_or_method",
        "instance",
        "_Feature"
      ],
      "window_display": false
    },
    "colab": {
      "name": "NearestNeighbors_PracticeProb-Solution.ipynb",
      "provenance": [],
      "collapsed_sections": []
    }
  },
  "nbformat": 4,
  "nbformat_minor": 0
}