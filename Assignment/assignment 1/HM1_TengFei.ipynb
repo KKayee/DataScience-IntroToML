{
 "cells": [
  {
   "cell_type": "markdown",
   "metadata": {},
   "source": [
    "# Homework 1"
   ]
  },
  {
   "cell_type": "code",
   "execution_count": 39,
   "metadata": {},
   "outputs": [],
   "source": [
    "from sklearn import metrics\n",
    "from sklearn.model_selection import train_test_split\n",
    "from sklearn.neighbors import KNeighborsClassifier\n",
    "from sklearn.tree import DecisionTreeClassifier, export_graphviz, plot_tree\n",
    "from sklearn.metrics import accuracy_score, confusion_matrix, classification_report\n",
    "from IPython.display import Image  \n",
    "\n",
    "import matplotlib.pyplot as plt\n",
    "import numpy as np\n",
    "import pandas as pd\n",
    "import pydotplus\n",
    "import seaborn as sns"
   ]
  },
  {
   "cell_type": "markdown",
   "metadata": {},
   "source": [
    "### Data Preprocess"
   ]
  },
  {
   "cell_type": "markdown",
   "metadata": {},
   "source": [
    "Question 1: Remove the rows with missing labels (’label’) and rows with more than 7 missing features. Report the remaining number of rows. (2 mark)"
   ]
  },
  {
   "cell_type": "code",
   "execution_count": 2,
   "metadata": {},
   "outputs": [
    {
     "data": {
      "text/html": [
       "<div>\n",
       "<style scoped>\n",
       "    .dataframe tbody tr th:only-of-type {\n",
       "        vertical-align: middle;\n",
       "    }\n",
       "\n",
       "    .dataframe tbody tr th {\n",
       "        vertical-align: top;\n",
       "    }\n",
       "\n",
       "    .dataframe thead th {\n",
       "        text-align: right;\n",
       "    }\n",
       "</style>\n",
       "<table border=\"1\" class=\"dataframe\">\n",
       "  <thead>\n",
       "    <tr style=\"text-align: right;\">\n",
       "      <th></th>\n",
       "      <th>label</th>\n",
       "      <th>id</th>\n",
       "      <th>fea_1</th>\n",
       "      <th>fea_2</th>\n",
       "      <th>fea_3</th>\n",
       "      <th>fea_4</th>\n",
       "      <th>fea_5</th>\n",
       "      <th>fea_6</th>\n",
       "      <th>fea_7</th>\n",
       "      <th>fea_8</th>\n",
       "      <th>fea_9</th>\n",
       "      <th>fea_10</th>\n",
       "      <th>fea_11</th>\n",
       "    </tr>\n",
       "  </thead>\n",
       "  <tbody>\n",
       "    <tr>\n",
       "      <th>0</th>\n",
       "      <td>0.0</td>\n",
       "      <td>59004779</td>\n",
       "      <td>4.0</td>\n",
       "      <td>1277.0</td>\n",
       "      <td>1.0</td>\n",
       "      <td>113000.0</td>\n",
       "      <td>2.0</td>\n",
       "      <td>8.0</td>\n",
       "      <td>-1.0</td>\n",
       "      <td>100.0</td>\n",
       "      <td>3.0</td>\n",
       "      <td>341759.0</td>\n",
       "      <td>207.173840</td>\n",
       "    </tr>\n",
       "    <tr>\n",
       "      <th>1</th>\n",
       "      <td>0.0</td>\n",
       "      <td>58990862</td>\n",
       "      <td>7.0</td>\n",
       "      <td>1298.0</td>\n",
       "      <td>1.0</td>\n",
       "      <td>110000.0</td>\n",
       "      <td>2.0</td>\n",
       "      <td>11.0</td>\n",
       "      <td>-1.0</td>\n",
       "      <td>101.0</td>\n",
       "      <td>5.0</td>\n",
       "      <td>72001.0</td>\n",
       "      <td>NaN</td>\n",
       "    </tr>\n",
       "    <tr>\n",
       "      <th>2</th>\n",
       "      <td>1.0</td>\n",
       "      <td>58995168</td>\n",
       "      <td>7.0</td>\n",
       "      <td>1335.5</td>\n",
       "      <td>1.0</td>\n",
       "      <td>151000.0</td>\n",
       "      <td>2.0</td>\n",
       "      <td>11.0</td>\n",
       "      <td>5.0</td>\n",
       "      <td>110.0</td>\n",
       "      <td>3.0</td>\n",
       "      <td>60084.0</td>\n",
       "      <td>NaN</td>\n",
       "    </tr>\n",
       "    <tr>\n",
       "      <th>3</th>\n",
       "      <td>0.0</td>\n",
       "      <td>54987320</td>\n",
       "      <td>7.0</td>\n",
       "      <td>NaN</td>\n",
       "      <td>2.0</td>\n",
       "      <td>59000.0</td>\n",
       "      <td>2.0</td>\n",
       "      <td>11.0</td>\n",
       "      <td>5.0</td>\n",
       "      <td>108.0</td>\n",
       "      <td>4.0</td>\n",
       "      <td>450081.0</td>\n",
       "      <td>197.403141</td>\n",
       "    </tr>\n",
       "    <tr>\n",
       "      <th>4</th>\n",
       "      <td>0.0</td>\n",
       "      <td>59005995</td>\n",
       "      <td>6.0</td>\n",
       "      <td>1217.0</td>\n",
       "      <td>3.0</td>\n",
       "      <td>56000.0</td>\n",
       "      <td>2.0</td>\n",
       "      <td>6.0</td>\n",
       "      <td>-1.0</td>\n",
       "      <td>100.0</td>\n",
       "      <td>3.0</td>\n",
       "      <td>60091.0</td>\n",
       "      <td>NaN</td>\n",
       "    </tr>\n",
       "  </tbody>\n",
       "</table>\n",
       "</div>"
      ],
      "text/plain": [
       "   label        id  fea_1   fea_2  fea_3     fea_4  fea_5  fea_6  fea_7  \\\n",
       "0    0.0  59004779    4.0  1277.0    1.0  113000.0    2.0    8.0   -1.0   \n",
       "1    0.0  58990862    7.0  1298.0    1.0  110000.0    2.0   11.0   -1.0   \n",
       "2    1.0  58995168    7.0  1335.5    1.0  151000.0    2.0   11.0    5.0   \n",
       "3    0.0  54987320    7.0     NaN    2.0   59000.0    2.0   11.0    5.0   \n",
       "4    0.0  59005995    6.0  1217.0    3.0   56000.0    2.0    6.0   -1.0   \n",
       "\n",
       "   fea_8  fea_9    fea_10      fea_11  \n",
       "0  100.0    3.0  341759.0  207.173840  \n",
       "1  101.0    5.0   72001.0         NaN  \n",
       "2  110.0    3.0   60084.0         NaN  \n",
       "3  108.0    4.0  450081.0  197.403141  \n",
       "4  100.0    3.0   60091.0         NaN  "
      ]
     },
     "execution_count": 2,
     "metadata": {},
     "output_type": "execute_result"
    }
   ],
   "source": [
    "# load data\n",
    "dat = pd.read_csv('data/customer_data.csv')\n",
    "dat.head()"
   ]
  },
  {
   "cell_type": "code",
   "execution_count": 3,
   "metadata": {},
   "outputs": [
    {
     "name": "stdout",
     "output_type": "stream",
     "text": [
      "Original Rows: 1124\n",
      "after remove NA-label row: 1110\n",
      "after drop more than 7 feature: 1095\n"
     ]
    }
   ],
   "source": [
    "print('Original Rows: %s' % len(dat))\n",
    "\n",
    "dat_remove_label = dat.dropna(subset=['label'])\n",
    "print('after remove NA-label row: %s' % len(dat_remove_label))\n",
    "\n",
    "dat_remove_7_missing = dat_remove_label.iloc[:, 2:] # drop `label` because it's not a feature\n",
    "dat_remove_7_missing = dat_remove_7_missing.dropna(thresh=8)\n",
    "print('after drop more than 7 feature: %s' % len(dat_remove_7_missing))"
   ]
  },
  {
   "cell_type": "markdown",
   "metadata": {},
   "source": [
    "Question 2: Remove features with > 50% of missing values. For other features with missing values fill them with the mean of the corresponding features. Report the removed features (if any) and standard deviation of features with missing values after filling. (2 marks)"
   ]
  },
  {
   "cell_type": "code",
   "execution_count": 4,
   "metadata": {},
   "outputs": [
    {
     "name": "stdout",
     "output_type": "stream",
     "text": [
      "original columns: 11\n",
      "columns after remove feature has 50pct missing values: 10\n",
      "removed feature --> fea_11\n"
     ]
    },
    {
     "data": {
      "text/plain": [
       "fea_1          1.378574\n",
       "fea_2         48.151339\n",
       "fea_3          0.876765\n",
       "fea_4      89256.523379\n",
       "fea_5          0.260353\n",
       "fea_6          2.676198\n",
       "fea_7          2.970648\n",
       "fea_8         11.977444\n",
       "fea_9          0.857937\n",
       "fea_10    152455.809399\n",
       "dtype: float64"
      ]
     },
     "execution_count": 4,
     "metadata": {},
     "output_type": "execute_result"
    }
   ],
   "source": [
    "print('original columns: %s' % len(dat_remove_7_missing.columns))\n",
    "\n",
    "dat_remove_50pct = dat_remove_7_missing.dropna(thresh=0.5 * len(dat_remove_7_missing), axis='columns')\n",
    "dat_fill_mean = dat_remove_50pct.fillna(dat_remove_50pct.mean())\n",
    "print('columns after remove feature has 50pct missing values: %s' % len(dat_remove_50pct.columns))\n",
    "\n",
    "for feature in dat_remove_7_missing.columns:\n",
    "    if feature not in dat_fill_mean.columns:\n",
    "        print('removed feature --> %s' % feature)\n",
    "\n",
    "dat_fill_mean.std()"
   ]
  },
  {
   "cell_type": "markdown",
   "metadata": {},
   "source": [
    "### Decision Trees"
   ]
  },
  {
   "cell_type": "code",
   "execution_count": 5,
   "metadata": {},
   "outputs": [
    {
     "data": {
      "text/html": [
       "<div>\n",
       "<style scoped>\n",
       "    .dataframe tbody tr th:only-of-type {\n",
       "        vertical-align: middle;\n",
       "    }\n",
       "\n",
       "    .dataframe tbody tr th {\n",
       "        vertical-align: top;\n",
       "    }\n",
       "\n",
       "    .dataframe thead th {\n",
       "        text-align: right;\n",
       "    }\n",
       "</style>\n",
       "<table border=\"1\" class=\"dataframe\">\n",
       "  <thead>\n",
       "    <tr style=\"text-align: right;\">\n",
       "      <th></th>\n",
       "      <th>fea_1</th>\n",
       "      <th>fea_2</th>\n",
       "      <th>fea_3</th>\n",
       "      <th>fea_4</th>\n",
       "      <th>fea_5</th>\n",
       "      <th>fea_6</th>\n",
       "      <th>fea_7</th>\n",
       "      <th>fea_8</th>\n",
       "      <th>fea_9</th>\n",
       "      <th>fea_10</th>\n",
       "    </tr>\n",
       "  </thead>\n",
       "  <tbody>\n",
       "    <tr>\n",
       "      <th>1086</th>\n",
       "      <td>5.0</td>\n",
       "      <td>1304.0</td>\n",
       "      <td>3.0</td>\n",
       "      <td>140000.0</td>\n",
       "      <td>2.0</td>\n",
       "      <td>15.0</td>\n",
       "      <td>5.0</td>\n",
       "      <td>80.0</td>\n",
       "      <td>3.0</td>\n",
       "      <td>151300.0</td>\n",
       "    </tr>\n",
       "    <tr>\n",
       "      <th>584</th>\n",
       "      <td>7.0</td>\n",
       "      <td>1325.0</td>\n",
       "      <td>1.0</td>\n",
       "      <td>80000.0</td>\n",
       "      <td>2.0</td>\n",
       "      <td>12.0</td>\n",
       "      <td>-1.0</td>\n",
       "      <td>82.0</td>\n",
       "      <td>3.0</td>\n",
       "      <td>60026.0</td>\n",
       "    </tr>\n",
       "    <tr>\n",
       "      <th>475</th>\n",
       "      <td>7.0</td>\n",
       "      <td>1292.0</td>\n",
       "      <td>1.0</td>\n",
       "      <td>130000.0</td>\n",
       "      <td>2.0</td>\n",
       "      <td>11.0</td>\n",
       "      <td>5.0</td>\n",
       "      <td>108.0</td>\n",
       "      <td>3.0</td>\n",
       "      <td>60040.0</td>\n",
       "    </tr>\n",
       "    <tr>\n",
       "      <th>999</th>\n",
       "      <td>4.0</td>\n",
       "      <td>1224.5</td>\n",
       "      <td>3.0</td>\n",
       "      <td>59000.0</td>\n",
       "      <td>2.0</td>\n",
       "      <td>8.0</td>\n",
       "      <td>5.0</td>\n",
       "      <td>80.0</td>\n",
       "      <td>3.0</td>\n",
       "      <td>60044.0</td>\n",
       "    </tr>\n",
       "    <tr>\n",
       "      <th>900</th>\n",
       "      <td>5.0</td>\n",
       "      <td>1229.0</td>\n",
       "      <td>3.0</td>\n",
       "      <td>46000.0</td>\n",
       "      <td>2.0</td>\n",
       "      <td>15.0</td>\n",
       "      <td>-1.0</td>\n",
       "      <td>111.0</td>\n",
       "      <td>4.0</td>\n",
       "      <td>450071.0</td>\n",
       "    </tr>\n",
       "  </tbody>\n",
       "</table>\n",
       "</div>"
      ],
      "text/plain": [
       "      fea_1   fea_2  fea_3     fea_4  fea_5  fea_6  fea_7  fea_8  fea_9  \\\n",
       "1086    5.0  1304.0    3.0  140000.0    2.0   15.0    5.0   80.0    3.0   \n",
       "584     7.0  1325.0    1.0   80000.0    2.0   12.0   -1.0   82.0    3.0   \n",
       "475     7.0  1292.0    1.0  130000.0    2.0   11.0    5.0  108.0    3.0   \n",
       "999     4.0  1224.5    3.0   59000.0    2.0    8.0    5.0   80.0    3.0   \n",
       "900     5.0  1229.0    3.0   46000.0    2.0   15.0   -1.0  111.0    4.0   \n",
       "\n",
       "        fea_10  \n",
       "1086  151300.0  \n",
       "584    60026.0  \n",
       "475    60040.0  \n",
       "999    60044.0  \n",
       "900   450071.0  "
      ]
     },
     "execution_count": 5,
     "metadata": {},
     "output_type": "execute_result"
    }
   ],
   "source": [
    "train_feature = pd.read_csv('data/customer_data_train.csv', index_col=0)\n",
    "train_label = pd.read_csv('data/customer_data_train_labels.csv', index_col=0)\n",
    "\n",
    "test_feature = pd.read_csv('data/customer_data_test.csv', index_col=0)\n",
    "test_label = pd.read_csv('data/customer_data_test_labels.csv', index_col=0)\n",
    "\n",
    "valid_feature = pd.read_csv('data/customer_data_valid.csv', index_col=0)\n",
    "valid_label = pd.read_csv('data/customer_data_valid_labels.csv', index_col=0)\n",
    "\n",
    "valid_feature.head()"
   ]
  },
  {
   "cell_type": "code",
   "execution_count": 6,
   "metadata": {},
   "outputs": [],
   "source": [
    "criterions = ['gini', 'entropy']\n",
    "min_split = [2, 5, 10, 20]\n",
    "samples_cut = [50, 100, 200, 400, 600, 704]"
   ]
  },
  {
   "cell_type": "markdown",
   "metadata": {},
   "source": [
    "Question 3: Train Decision Tree model on train data for criterions = {’gini’, ’entropy’} and report the accuracies on the validation data. Select the best criterion and report the accuracy on the test data. (1 mark)"
   ]
  },
  {
   "cell_type": "code",
   "execution_count": 7,
   "metadata": {},
   "outputs": [
    {
     "name": "stdout",
     "output_type": "stream",
     "text": [
      "The best criterion is entropy and the accuracy is 0.7194570135746606\n"
     ]
    }
   ],
   "source": [
    "bestAcc = 0\n",
    "bestCri = ''\n",
    "\n",
    "for cri in criterions:\n",
    "    \n",
    "    clf = DecisionTreeClassifier(criterion=cri, random_state=34)\n",
    "    clf.fit(train_feature, train_label)\n",
    "    predictions = clf.predict(test_feature)\n",
    "    accuracy = accuracy_score(test_label, predictions)\n",
    "\n",
    "    if accuracy > bestAcc:\n",
    "        bestAcc = accuracy\n",
    "        bestCri = cri\n",
    "\n",
    "print(f'The best criterion is {bestCri} and the accuracy is {bestAcc}')\n",
    "    "
   ]
  },
  {
   "cell_type": "markdown",
   "metadata": {},
   "source": [
    "Question 4: Use the criterion selected above to train Decision Tree model on train data for min samples split={2,5,10,20} and report the accuracies on the validation data. Select the best parameter and report the accuracy on the test data. (2 marks)"
   ]
  },
  {
   "cell_type": "code",
   "execution_count": 8,
   "metadata": {},
   "outputs": [
    {
     "name": "stdout",
     "output_type": "stream",
     "text": [
      "The best min split is 20 and the accuracy is 0.7330316742081447\n"
     ]
    }
   ],
   "source": [
    "bestAcc = 0\n",
    "bestMinSplit = 0\n",
    "\n",
    "for minsplit in min_split:\n",
    "    \n",
    "    clf = DecisionTreeClassifier(criterion='entropy', min_samples_split=minsplit, random_state=34)\n",
    "    clf.fit(train_feature, train_label)\n",
    "    predictions = clf.predict(test_feature)\n",
    "    accuracy = accuracy_score(test_label, predictions)\n",
    "\n",
    "    if accuracy > bestAcc:\n",
    "        bestAcc = accuracy\n",
    "        bestMinSplit = minsplit\n",
    "\n",
    "print(f'The best min split is {bestMinSplit} and the accuracy is {bestAcc}')"
   ]
  },
  {
   "cell_type": "markdown",
   "metadata": {},
   "source": [
    "Question 5: Use the parameters selected above (Q4 and Q5) to train Decision Tree model using the first 50, 100, 200, 400, 600 and 704 samples from train data. Keep the validation set unchanged during this analysis. Report and plot the accuracies on the validation data. (2 marks)"
   ]
  },
  {
   "cell_type": "code",
   "execution_count": 9,
   "metadata": {},
   "outputs": [
    {
     "name": "stdout",
     "output_type": "stream",
     "text": [
      "The best cut is 100 and the accuracy is 0.7613636363636364\n"
     ]
    },
    {
     "data": {
      "image/png": "[encoded data removed]",
      "text/plain": [
       "<Figure size 432x288 with 1 Axes>"
      ]
     },
     "metadata": {
      "needs_background": "light"
     },
     "output_type": "display_data"
    }
   ],
   "source": [
    "bestAcc = 0\n",
    "bestCut = 0\n",
    "bestClf = 0\n",
    "\n",
    "acc = []\n",
    "\n",
    "for cut in samples_cut:\n",
    "\n",
    "    clf = DecisionTreeClassifier(criterion='entropy', min_samples_split=20, random_state=34)\n",
    "    clf.fit(train_feature[:cut], train_label[:cut])\n",
    "    predictions = clf.predict(valid_feature)\n",
    "    accuracy = accuracy_score(valid_label, predictions)\n",
    "\n",
    "    acc.append(accuracy)\n",
    "\n",
    "    if accuracy > bestAcc:\n",
    "        bestAcc = accuracy\n",
    "        bestCut = cut\n",
    "        bestClf = clf\n",
    "\n",
    "print(f'The best cut is {bestCut} and the accuracy is {bestAcc}')\n",
    "\n",
    "# plt.figure(figsize=(60,30))\n",
    "# plot_tree(bestClf, filled=True)\n",
    "\n",
    "x = samples_cut\n",
    "y = acc\n",
    "plt.plot(x, y)\n",
    "plt.show()\n"
   ]
  },
  {
   "cell_type": "markdown",
   "metadata": {},
   "source": [
    "Question 6: Use the test data to compute the confusion matrix for the predictions of your model. Report the confusion matrix. (1 mark)"
   ]
  },
  {
   "cell_type": "code",
   "execution_count": 10,
   "metadata": {},
   "outputs": [
    {
     "name": "stdout",
     "output_type": "stream",
     "text": [
      "[[149  25]\n",
      " [ 35  12]]\n"
     ]
    }
   ],
   "source": [
    "bestClf.fit(train_feature[:bestCut], train_label[:bestCut])\n",
    "pred = bestClf.predict(test_feature)\n",
    "real = test_label\n",
    "\n",
    "print(confusion_matrix(real, pred))"
   ]
  },
  {
   "cell_type": "markdown",
   "metadata": {},
   "source": [
    "### Nearest Neighbor\n",
    "Normalize Data: Normalize features such that for each feature the mean is 0 and the standard deviation is 1 in the train+validation data. Use the normalizing factors calculated on train+validation data to modify the values in train, validation and test data."
   ]
  },
  {
   "cell_type": "code",
   "execution_count": 11,
   "metadata": {},
   "outputs": [],
   "source": [
    "# normalize data\n",
    "dataTrainVaild = pd.concat([train_feature, valid_feature])\n",
    "\n",
    "XTrain = (train_feature - dataTrainVaild.mean() / dataTrainVaild.std())\n",
    "XVaild = (valid_feature - dataTrainVaild.mean() / dataTrainVaild.std())\n",
    "XTest = (test_feature - dataTrainVaild.mean() / dataTrainVaild.std())"
   ]
  },
  {
   "cell_type": "markdown",
   "metadata": {},
   "source": [
    "Question 7: Train k-nn model on train + validation data and report accuracy on test data. Use Euclidean distance and k=3. (1 mark)"
   ]
  },
  {
   "cell_type": "code",
   "execution_count": 32,
   "metadata": {},
   "outputs": [
    {
     "name": "stdout",
     "output_type": "stream",
     "text": [
      "accuracy = 0.751131221719457 for test data\n"
     ]
    }
   ],
   "source": [
    "XTrainVaild = pd.concat([XTrain, XVaild])\n",
    "YTrainVaild = pd.concat([train_label, valid_label])\n",
    "\n",
    "k = 3\n",
    "clf = KNeighborsClassifier(k, p=2)\n",
    "clf.fit(XTrainVaild, YTrainVaild.squeeze())\n",
    "predictions = clf.predict(XTest)\n",
    "accuracy = np.sum((predictions == test_label.squeeze()) / (len(test_label.squeeze()))) # must use pd.Series\n",
    "\n",
    "print(f'accuracy = {accuracy} for test data')"
   ]
  },
  {
   "cell_type": "markdown",
   "metadata": {},
   "source": [
    "Question 8: Train the model on train data for distance metrics defined by $l_1$,$l_{inf}$, $l_2$. Report the accuracies on the validation data. Select the best metric and report the accuracy on the test data for the selected metric. Use k=3. (1 mark)"
   ]
  },
  {
   "cell_type": "code",
   "execution_count": 31,
   "metadata": {},
   "outputs": [
    {
     "name": "stdout",
     "output_type": "stream",
     "text": [
      "The best accuracy is 0.7556818181818183 when p = 2\n"
     ]
    }
   ],
   "source": [
    "pList = [1, np.inf, 2]\n",
    "k = 3\n",
    "\n",
    "bestP = 0\n",
    "bestAcc = 0\n",
    "\n",
    "for i in pList:\n",
    "\n",
    "    clf = KNeighborsClassifier(k, p=i)\n",
    "    clf.fit(XTrain, train_label.squeeze())\n",
    "    predictions = clf.predict(XVaild)\n",
    "    accuracy = np.sum((predictions == valid_label.squeeze()) / (len(valid_label.squeeze()))) # must use pd.Series\n",
    "\n",
    "    if accuracy > bestAcc:\n",
    "        bestAcc = accuracy\n",
    "        bestP = i\n",
    "\n",
    "print(f'The best accuracy is {bestAcc} when p = {bestP}')"
   ]
  },
  {
   "cell_type": "markdown",
   "metadata": {},
   "source": [
    "Question 9: Train the k-nn model on train data for k=1,3,5,7,9. Report and plot the accuracies on the validation data. Select the best ’k’ value and report the accuracy on the test data for the selected ’k’. Use Chebyshev distance. (2 marks)"
   ]
  },
  {
   "cell_type": "code",
   "execution_count": 67,
   "metadata": {},
   "outputs": [
    {
     "name": "stdout",
     "output_type": "stream",
     "text": [
      "0.7045454545454547\n",
      "0.7386363636363638\n",
      "0.7670454545454547\n",
      "0.7840909090909093\n",
      "0.7840909090909093\n",
      "The best accuracy is 0.7840909090909093 when k = 7\n"
     ]
    },
    {
     "data": {
      "image/png": "[encoded data removed]",
      "text/plain": [
       "<Figure size 432x288 with 1 Axes>"
      ]
     },
     "metadata": {
      "needs_background": "light"
     },
     "output_type": "display_data"
    }
   ],
   "source": [
    "kList = [1, 3, 5, 7, 9]\n",
    "accList = []\n",
    "\n",
    "bestK = 0\n",
    "bestAcc = 0\n",
    "\n",
    "for k in kList:\n",
    "\n",
    "    clf = KNeighborsClassifier(n_neighbors=k, p=np.inf)\n",
    "    clf.fit(XTrain, train_label.squeeze())\n",
    "    predictions = clf.predict(XVaild)\n",
    "    accuracy = np.sum((predictions == valid_label.squeeze()) / (len(valid_label.squeeze()))) # must use pd.Series\n",
    "\n",
    "    accList.append(accuracy)\n",
    "\n",
    "    if accuracy > bestAcc:\n",
    "        bestAcc = accuracy\n",
    "        bestK = k\n",
    "\n",
    "print(f'The best accuracy is {bestAcc} when k = {bestK}')\n",
    "\n",
    "x = kList\n",
    "y = accList\n",
    "plt.plot(x, y)\n",
    "plt.show()\n"
   ]
  },
  {
   "cell_type": "markdown",
   "metadata": {},
   "source": [
    "Question 10: Instead of using full train data, train the model using the first 50, 100, 200, 400, 600 and 704 data samples from train data. Keep the validation set unchanged during this analysis. Report and plot the accuracies on the validation data. Use Chebyshev distance and k=3. Note: Don’t shuffle the data and use only the ’first n samples’, otherwise your answers may differ. (2 marks)"
   ]
  },
  {
   "cell_type": "code",
   "execution_count": 36,
   "metadata": {},
   "outputs": [
    {
     "name": "stdout",
     "output_type": "stream",
     "text": [
      "The best accuracy is 0.7727272727272729 when cut = 100\n"
     ]
    },
    {
     "data": {
      "image/png": "[encoded data removed]",
      "text/plain": [
       "<Figure size 432x288 with 1 Axes>"
      ]
     },
     "metadata": {
      "needs_background": "light"
     },
     "output_type": "display_data"
    }
   ],
   "source": [
    "cutList = [50, 100, 200, 400, 600]\n",
    "accList = []\n",
    "\n",
    "bestCut = 0\n",
    "bestAcc = 0\n",
    "\n",
    "for cut in cutList:\n",
    "\n",
    "    k = 3\n",
    "    clf = KNeighborsClassifier(k, p=np.inf)\n",
    "    clf.fit(XTrain[:cut], train_label.squeeze()[:cut])\n",
    "    predictions = clf.predict(XVaild)\n",
    "    accuracy = np.sum((predictions == valid_label.squeeze()) / (len(valid_label.squeeze()))) # must use pd.Series\n",
    "\n",
    "    accList.append(accuracy)\n",
    "\n",
    "    if accuracy > bestAcc:\n",
    "        bestAcc = accuracy\n",
    "        bestCut= cut\n",
    "\n",
    "print(f'The best accuracy is {bestAcc} when cut = {bestCut}')\n",
    "\n",
    "x = cutList\n",
    "y = accList\n",
    "plt.plot(x, y)\n",
    "plt.show()"
   ]
  },
  {
   "cell_type": "markdown",
   "metadata": {},
   "source": [
    "Question 11: Train a k-nn model with k=3 and k=7 with the Chebyshev distance on the train and validation data combined. Plot the ROC curve for the prediction you get on the test data for both models. Also report the accuracy, precision, recall and F-1 score.\n",
    "Please comment on the evaluation results and the ROC curve, which model is better?(4 points)"
   ]
  },
  {
   "cell_type": "code",
   "execution_count": 69,
   "metadata": {},
   "outputs": [
    {
     "data": {
      "image/png": "[encoded data removed]",
      "text/plain": [
       "<Figure size 432x288 with 1 Axes>"
      ]
     },
     "metadata": {
      "needs_background": "light"
     },
     "output_type": "display_data"
    },
    {
     "name": "stdout",
     "output_type": "stream",
     "text": [
      "accuracy = 0.7420814479638009, precision = 0.32142857142857145, recall = 0.19148936170212766, F-1 score = 0.24, given k = 3\n"
     ]
    },
    {
     "data": {
      "image/png": "[encoded data removed]",
      "text/plain": [
       "<Figure size 432x288 with 1 Axes>"
      ]
     },
     "metadata": {
      "needs_background": "light"
     },
     "output_type": "display_data"
    },
    {
     "name": "stdout",
     "output_type": "stream",
     "text": [
      "accuracy = 0.7601809954751131, precision = 0.35, recall = 0.14893617021276595, F-1 score = 0.208955223880597, given k = 7\n"
     ]
    }
   ],
   "source": [
    "kList = [3, 7]\n",
    "predictionList = []\n",
    "\n",
    "for k in kList:\n",
    "\n",
    "    clf = KNeighborsClassifier(n_neighbors=k, p=np.inf)\n",
    "    clf.fit(XTrainVaild, YTrainVaild.squeeze())\n",
    "    predictions = clf.predict(XTest)\n",
    "    predictionList.append(predictions)\n",
    "    accuracy = np.sum((predictions == test_label.squeeze()) / (len(test_label.squeeze()))) # must use pd.Series\n",
    "    # accuracy = clf.score(XTest, test_label)\n",
    "\n",
    "    # plot ROC curve\n",
    "    fpr, tpr, threshold = metrics.roc_curve(test_label, predictions)\n",
    "    rocAuc = metrics.auc(fpr, tpr)\n",
    "    xBenchmark, yBenchmark = np.linspace(0, 1, 10), np.linspace(0, 1, 10)\n",
    "    display = metrics.RocCurveDisplay(fpr=fpr, tpr=tpr, roc_auc=rocAuc, estimator_name='example estimator')\n",
    "    display.plot()\n",
    "    plt.plot(xBenchmark, yBenchmark)\n",
    "    plt.show()\n",
    "\n",
    "    # report precision, recall, F-1 \n",
    "    precision = metrics.precision_score(test_label, predictions)\n",
    "    recall = metrics.recall_score(test_label, predictions)\n",
    "    f1Score = metrics.f1_score(test_label, predictions)\n",
    "\n",
    "    print(f'accuracy = {accuracy}, precision = {precision}, recall = {recall}, F-1 score = {f1Score}, given k = {k}')\n",
    "\n",
    "    "
   ]
  },
  {
   "cell_type": "markdown",
   "metadata": {},
   "source": [
    "Base on the evaluations we can see that the AUC(area under curve) are almost the same. But model 2 has a higher accuracy, precision, and F-1 score. Model 2 is slightly better. "
   ]
  }
 ],
 "metadata": {
  "interpreter": {
   "hash": "aee8b7b246df8f9039afb4144a1f6fd8d2ca17a180786b69acc140d282b71a49"
  },
  "kernelspec": {
   "display_name": "Python 3.10.2 64-bit",
   "language": "python",
   "name": "python3"
  },
  "language_info": {
   "codemirror_mode": {
    "name": "ipython",
    "version": 3
   },
   "file_extension": ".py",
   "mimetype": "text/x-python",
   "name": "python",
   "nbconvert_exporter": "python",
   "pygments_lexer": "ipython3",
   "version": "3.10.2"
  },
  "orig_nbformat": 4
 },
 "nbformat": 4,
 "nbformat_minor": 2
}
